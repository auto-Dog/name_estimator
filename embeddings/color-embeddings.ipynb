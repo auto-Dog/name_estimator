{
 "cells": [
  {
   "cell_type": "code",
   "execution_count": null,
   "metadata": {
    "_cell_guid": "b1076dfc-b9ad-4769-8c92-a6c4dae69d19",
    "_uuid": "8f2839f25d086af736a60e9eeb907d3b93b6e0e5",
    "execution": {
     "iopub.execute_input": "2024-12-16T09:50:19.099551Z",
     "iopub.status.busy": "2024-12-16T09:50:19.099199Z",
     "iopub.status.idle": "2024-12-16T09:50:36.174548Z",
     "shell.execute_reply": "2024-12-16T09:50:36.173815Z",
     "shell.execute_reply.started": "2024-12-16T09:50:19.099521Z"
    },
    "trusted": true
   },
   "outputs": [],
   "source": [
    "from transformers import BertTokenizer, BertModel\n",
    "import torch\n",
    "import matplotlib.pyplot as plt\n",
    "import numpy as np\n",
    "import pandas as pd"
   ]
  },
  {
   "cell_type": "code",
   "execution_count": null,
   "metadata": {
    "_cell_guid": "b1076dfc-b9ad-4769-8c92-a6c4dae69d19",
    "_uuid": "8f2839f25d086af736a60e9eeb907d3b93b6e0e5",
    "execution": {
     "iopub.execute_input": "2024-12-16T09:50:36.176333Z",
     "iopub.status.busy": "2024-12-16T09:50:36.175837Z",
     "iopub.status.idle": "2024-12-16T09:50:41.268248Z",
     "shell.execute_reply": "2024-12-16T09:50:41.267371Z",
     "shell.execute_reply.started": "2024-12-16T09:50:36.176306Z"
    },
    "trusted": true
   },
   "outputs": [],
   "source": [
    "tokenizer = BertTokenizer.from_pretrained('bert-base-multilingual-cased')\n",
    "model = BertModel.from_pretrained(\"bert-base-multilingual-cased\")\n",
    "text = \"The color is cyan.\"\n",
    "encoded_input = tokenizer(text, return_tensors='pt')\n",
    "print(encoded_input)\n",
    "show_encode_input = tokenizer.decode(encoded_input['input_ids'][0])\n",
    "print('words divided:',show_encode_input)\n",
    "output = model(**encoded_input)\n",
    "print('output shape',output[0].shape)"
   ]
  },
  {
   "cell_type": "code",
   "execution_count": null,
   "metadata": {
    "execution": {
     "iopub.execute_input": "2024-12-16T09:51:43.124940Z",
     "iopub.status.busy": "2024-12-16T09:51:43.124583Z",
     "iopub.status.idle": "2024-12-16T09:51:43.917630Z",
     "shell.execute_reply": "2024-12-16T09:51:43.915504Z",
     "shell.execute_reply.started": "2024-12-16T09:51:43.124908Z"
    },
    "trusted": true
   },
   "outputs": [],
   "source": [
    "\n",
    "all_colors = ['Red',\t\n",
    "'Green'\t,\n",
    "'Blue',\t\n",
    "'Black'\t,\n",
    "'White'\t,\n",
    "'Gray'\t,\n",
    "'Pink'\t,\n",
    "'Orange',\t\n",
    "'Purple',\t\n",
    "'Cyan'\t,\n",
    "'Yellow',\t\n",
    "'Brown']\n",
    "color_and_embeddings = {}\n",
    "color_num = len(all_colors)\n",
    "all_ax = []\n",
    "bar_height = 20\n",
    "bar_length = 768\n",
    "\n",
    "for i,color_names in enumerate(all_colors):\n",
    "    target_text = 'The color is '+color_names+'.'\n",
    "    encoded_input = tokenizer(target_text, return_tensors='pt')\n",
    "    output = model(**encoded_input)\n",
    "    color_and_embeddings[color_names] = torch.mean(output[0][0,:,:],dim=0).cpu().detach().numpy()   # use mean pooled embedding of the sentence\n",
    "    # show_encode_input = tokenizer.decode(encoded_input['input_ids'][0,4]) \n",
    "    # print('words divided:',show_encode_input)\n",
    "    embeddings_to_plot = np.array([color_and_embeddings[color_names] for i in range(bar_height)])\n",
    "    # print(embeddings_to_plot.shape)\n",
    "    all_ax.append(embeddings_to_plot)\n",
    "\n",
    "out_df = pd.DataFrame.from_dict(color_and_embeddings,orient='index')\n",
    "out_df.reset_index().rename(columns={'index':'color'})\n",
    "out_df.to_csv('basic_color_embeddings.csv')\n",
    "\n",
    "fig, ax = plt.subplots()\n",
    "ax.imshow(np.vstack(all_ax))\n",
    "                     \n",
    "for i, label in enumerate(all_colors):\n",
    "    ax.text(-10, i * bar_height + bar_height / 2, label, va='center', ha='right', fontsize=8, color='black')\n",
    "# Display the bar using Matplotlib\n",
    "# plt.tight_layout()\n",
    "plt.axis('off')  # Turn off axes\n",
    "plt.show()"
   ]
  },
  {
   "cell_type": "code",
   "execution_count": null,
   "metadata": {
    "execution": {
     "iopub.status.busy": "2024-12-16T09:50:43.089551Z",
     "iopub.status.idle": "2024-12-16T09:50:43.090123Z",
     "shell.execute_reply": "2024-12-16T09:50:43.089871Z",
     "shell.execute_reply.started": "2024-12-16T09:50:43.089845Z"
    },
    "trusted": true
   },
   "outputs": [],
   "source": [
    "import seaborn as sns\n",
    "import matplotlib.pyplot as plt\n",
    "from sklearn.metrics.pairwise import cosine_similarity\n",
    "\n",
    "X_data = np.array(list(color_and_embeddings.values()))\n",
    "cov_matrix = cosine_similarity(X_data)\n",
    "# 使用 Pandas 计算的协方差矩阵\n",
    "sns.heatmap(cov_matrix, annot=True, cmap='coolwarm', fmt='.2f', square=True)\n",
    "# 显示图形\n",
    "plt.title('Cosine Similarity Matrix Heatmap')\n",
    "plt.show()"
   ]
  },
  {
   "cell_type": "markdown",
   "metadata": {},
   "source": [
    "MDS visualization"
   ]
  },
  {
   "cell_type": "code",
   "execution_count": null,
   "metadata": {
    "execution": {
     "iopub.status.busy": "2024-12-16T09:50:43.091089Z",
     "iopub.status.idle": "2024-12-16T09:50:43.091372Z",
     "shell.execute_reply": "2024-12-16T09:50:43.091250Z",
     "shell.execute_reply.started": "2024-12-16T09:50:43.091236Z"
    },
    "trusted": true
   },
   "outputs": [],
   "source": [
    "from sklearn.metrics.pairwise import manhattan_distances, euclidean_distances,cosine_distances\n",
    "from sklearn.manifold import MDS\n",
    "X = np.array(list(color_and_embeddings.values()))\n",
    "print(X.shape)\n",
    "dist_cosine = cosine_distances(X) # 样本两两之间的距离矩阵，nxn\n",
    "mds = MDS(n_components=3,dissimilarity='precomputed', random_state=0)\n",
    "# Get the embeddings\n",
    "X_transform_L2 = mds.fit_transform(dist_cosine)\n",
    "print('MDS 降维后的嵌入点:\\n',X_transform_L2)\n",
    "print('stress:',mds.stress_)\n",
    "\n",
    "fig = plt.figure()\n",
    "ax = fig.add_subplot(1,1,1, projection='3d')\n",
    "plt.scatter(X_transform_L2[:,0], X_transform_L2[:,1], zs=X_transform_L2[:,2],s=64)\n",
    "plt.title('MDS Points(3D)')\n",
    "plt.show()"
   ]
  },
  {
   "cell_type": "markdown",
   "metadata": {},
   "source": [
    "train model"
   ]
  },
  {
   "cell_type": "code",
   "execution_count": null,
   "metadata": {
    "execution": {
     "iopub.execute_input": "2024-12-21T05:18:31.501995Z",
     "iopub.status.busy": "2024-12-21T05:18:31.501611Z",
     "iopub.status.idle": "2024-12-21T05:18:33.607856Z",
     "shell.execute_reply": "2024-12-21T05:18:33.607005Z",
     "shell.execute_reply.started": "2024-12-21T05:18:31.501938Z"
    },
    "trusted": true
   },
   "outputs": [],
   "source": [
    "!git clone https://github.com/auto-Dog/name_estimator.git"
   ]
  },
  {
   "cell_type": "code",
   "execution_count": null,
   "metadata": {
    "execution": {
     "iopub.execute_input": "2024-12-22T09:07:30.715878Z",
     "iopub.status.busy": "2024-12-22T09:07:30.715496Z",
     "iopub.status.idle": "2024-12-22T09:07:31.940697Z",
     "shell.execute_reply": "2024-12-22T09:07:31.939828Z",
     "shell.execute_reply.started": "2024-12-22T09:07:30.715842Z"
    },
    "trusted": true
   },
   "outputs": [],
   "source": [
    "%cd name_estimator\n",
    "!git pull"
   ]
  },
  {
   "cell_type": "code",
   "execution_count": null,
   "metadata": {
    "execution": {
     "iopub.execute_input": "2024-12-22T03:20:36.507928Z",
     "iopub.status.busy": "2024-12-22T03:20:36.507573Z",
     "iopub.status.idle": "2024-12-22T03:26:26.668098Z",
     "shell.execute_reply": "2024-12-22T03:26:26.667029Z",
     "shell.execute_reply.started": "2024-12-22T03:20:36.507894Z"
    },
    "trusted": true
   },
   "outputs": [],
   "source": [
    "!python train.py --prefix vit_cn2 --size 512 --patch 16 --batchsize 32 --dataset /kaggle/input/imagenet1k-subset-100k-train-and-10k-val"
   ]
  }
 ],
 "metadata": {
  "kaggle": {
   "accelerator": "nvidiaTeslaT4",
   "dataSources": [
    {
     "datasetId": 4413931,
     "sourceId": 7582952,
     "sourceType": "datasetVersion"
    }
   ],
   "dockerImageVersionId": 30805,
   "isGpuEnabled": true,
   "isInternetEnabled": true,
   "language": "python",
   "sourceType": "notebook"
  },
  "kernelspec": {
   "display_name": "mypytorch",
   "language": "python",
   "name": "python3"
  },
  "language_info": {
   "codemirror_mode": {
    "name": "ipython",
    "version": 3
   },
   "file_extension": ".py",
   "mimetype": "text/x-python",
   "name": "python",
   "nbconvert_exporter": "python",
   "pygments_lexer": "ipython3",
   "version": "3.7.1"
  }
 },
 "nbformat": 4,
 "nbformat_minor": 4
}
